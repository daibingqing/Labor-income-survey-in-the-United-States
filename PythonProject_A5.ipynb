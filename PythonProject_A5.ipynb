{
 "cells": [
  {
   "cell_type": "markdown",
   "metadata": {},
   "source": [
    "# 美国劳动力收入调查 \n"
   ]
  },
  {
   "cell_type": "markdown",
   "metadata": {},
   "source": [
    "* 资料来自Github\n",
    "* 取70%为训练集所需数据，30%为测试集所需数据\n",
    "* 将年薪5万美金作为判断依据，分析年薪5万以上及以下的劳动者都有什么特征"
   ]
  },
  {
   "cell_type": "markdown",
   "metadata": {},
   "source": [
    "导入库与所需工具"
   ]
  },
  {
   "cell_type": "code",
   "execution_count": 1,
   "metadata": {},
   "outputs": [],
   "source": [
    "import pandas as pd                 # 导入基础包pandas\n",
    "import matplotlib.pyplot as plt      # 数据可视化包\n",
    "from sklearn.model_selection import train_test_split  #训练集以及测试集所需的包\n",
    "\n",
    "%matplotlib inline"
   ]
  },
  {
   "cell_type": "markdown",
   "metadata": {},
   "source": [
    "载入数据"
   ]
  },
  {
   "cell_type": "code",
   "execution_count": 2,
   "metadata": {},
   "outputs": [
    {
     "data": {
      "text/plain": [
       "(32561, 14)"
      ]
     },
     "execution_count": 2,
     "metadata": {},
     "output_type": "execute_result"
    }
   ],
   "source": [
    "df = pd.read_csv(\"adult.csv\")\n",
    "\n",
    "df.shape #统计表的行与列数"
   ]
  },
  {
   "cell_type": "markdown",
   "metadata": {},
   "source": [
    "数据的预处理\n",
    "* 取头尾10列数据浏览\n",
    "* 检查空值"
   ]
  },
  {
   "cell_type": "code",
   "execution_count": 3,
   "metadata": {},
   "outputs": [
    {
     "data": {
      "text/html": [
       "<div>\n",
       "<style scoped>\n",
       "    .dataframe tbody tr th:only-of-type {\n",
       "        vertical-align: middle;\n",
       "    }\n",
       "\n",
       "    .dataframe tbody tr th {\n",
       "        vertical-align: top;\n",
       "    }\n",
       "\n",
       "    .dataframe thead th {\n",
       "        text-align: right;\n",
       "    }\n",
       "</style>\n",
       "<table border=\"1\" class=\"dataframe\">\n",
       "  <thead>\n",
       "    <tr style=\"text-align: right;\">\n",
       "      <th></th>\n",
       "      <th>age</th>\n",
       "      <th>workclass</th>\n",
       "      <th>education</th>\n",
       "      <th>education-num</th>\n",
       "      <th>marital-status</th>\n",
       "      <th>occupation</th>\n",
       "      <th>relationship</th>\n",
       "      <th>race</th>\n",
       "      <th>sex</th>\n",
       "      <th>capital-gain</th>\n",
       "      <th>capital-loss</th>\n",
       "      <th>hours-per-week</th>\n",
       "      <th>native-country</th>\n",
       "      <th>money</th>\n",
       "    </tr>\n",
       "  </thead>\n",
       "  <tbody>\n",
       "    <tr>\n",
       "      <th>0</th>\n",
       "      <td>39</td>\n",
       "      <td>State-gov</td>\n",
       "      <td>Bachelors</td>\n",
       "      <td>13</td>\n",
       "      <td>Never-married</td>\n",
       "      <td>Adm-clerical</td>\n",
       "      <td>Not-in-family</td>\n",
       "      <td>White</td>\n",
       "      <td>Male</td>\n",
       "      <td>2174</td>\n",
       "      <td>0</td>\n",
       "      <td>40</td>\n",
       "      <td>United-States</td>\n",
       "      <td>&lt;=50K</td>\n",
       "    </tr>\n",
       "    <tr>\n",
       "      <th>1</th>\n",
       "      <td>50</td>\n",
       "      <td>Self-emp-not-inc</td>\n",
       "      <td>Bachelors</td>\n",
       "      <td>13</td>\n",
       "      <td>Married-civ-spouse</td>\n",
       "      <td>Exec-managerial</td>\n",
       "      <td>Husband</td>\n",
       "      <td>White</td>\n",
       "      <td>Male</td>\n",
       "      <td>0</td>\n",
       "      <td>0</td>\n",
       "      <td>13</td>\n",
       "      <td>United-States</td>\n",
       "      <td>&lt;=50K</td>\n",
       "    </tr>\n",
       "    <tr>\n",
       "      <th>2</th>\n",
       "      <td>38</td>\n",
       "      <td>Private</td>\n",
       "      <td>HS-grad</td>\n",
       "      <td>9</td>\n",
       "      <td>Divorced</td>\n",
       "      <td>Handlers-cleaners</td>\n",
       "      <td>Not-in-family</td>\n",
       "      <td>White</td>\n",
       "      <td>Male</td>\n",
       "      <td>0</td>\n",
       "      <td>0</td>\n",
       "      <td>40</td>\n",
       "      <td>United-States</td>\n",
       "      <td>&lt;=50K</td>\n",
       "    </tr>\n",
       "    <tr>\n",
       "      <th>3</th>\n",
       "      <td>53</td>\n",
       "      <td>Private</td>\n",
       "      <td>11th</td>\n",
       "      <td>7</td>\n",
       "      <td>Married-civ-spouse</td>\n",
       "      <td>Handlers-cleaners</td>\n",
       "      <td>Husband</td>\n",
       "      <td>Black</td>\n",
       "      <td>Male</td>\n",
       "      <td>0</td>\n",
       "      <td>0</td>\n",
       "      <td>40</td>\n",
       "      <td>United-States</td>\n",
       "      <td>&lt;=50K</td>\n",
       "    </tr>\n",
       "    <tr>\n",
       "      <th>4</th>\n",
       "      <td>28</td>\n",
       "      <td>Private</td>\n",
       "      <td>Bachelors</td>\n",
       "      <td>13</td>\n",
       "      <td>Married-civ-spouse</td>\n",
       "      <td>Prof-specialty</td>\n",
       "      <td>Wife</td>\n",
       "      <td>Black</td>\n",
       "      <td>Female</td>\n",
       "      <td>0</td>\n",
       "      <td>0</td>\n",
       "      <td>40</td>\n",
       "      <td>Cuba</td>\n",
       "      <td>&lt;=50K</td>\n",
       "    </tr>\n",
       "    <tr>\n",
       "      <th>5</th>\n",
       "      <td>37</td>\n",
       "      <td>Private</td>\n",
       "      <td>Masters</td>\n",
       "      <td>14</td>\n",
       "      <td>Married-civ-spouse</td>\n",
       "      <td>Exec-managerial</td>\n",
       "      <td>Wife</td>\n",
       "      <td>White</td>\n",
       "      <td>Female</td>\n",
       "      <td>0</td>\n",
       "      <td>0</td>\n",
       "      <td>40</td>\n",
       "      <td>United-States</td>\n",
       "      <td>&lt;=50K</td>\n",
       "    </tr>\n",
       "    <tr>\n",
       "      <th>6</th>\n",
       "      <td>49</td>\n",
       "      <td>Private</td>\n",
       "      <td>9th</td>\n",
       "      <td>5</td>\n",
       "      <td>Married-spouse-absent</td>\n",
       "      <td>Other-service</td>\n",
       "      <td>Not-in-family</td>\n",
       "      <td>Black</td>\n",
       "      <td>Female</td>\n",
       "      <td>0</td>\n",
       "      <td>0</td>\n",
       "      <td>16</td>\n",
       "      <td>Jamaica</td>\n",
       "      <td>&lt;=50K</td>\n",
       "    </tr>\n",
       "    <tr>\n",
       "      <th>7</th>\n",
       "      <td>52</td>\n",
       "      <td>Self-emp-not-inc</td>\n",
       "      <td>HS-grad</td>\n",
       "      <td>9</td>\n",
       "      <td>Married-civ-spouse</td>\n",
       "      <td>Exec-managerial</td>\n",
       "      <td>Husband</td>\n",
       "      <td>White</td>\n",
       "      <td>Male</td>\n",
       "      <td>0</td>\n",
       "      <td>0</td>\n",
       "      <td>45</td>\n",
       "      <td>United-States</td>\n",
       "      <td>&gt;50K</td>\n",
       "    </tr>\n",
       "    <tr>\n",
       "      <th>8</th>\n",
       "      <td>31</td>\n",
       "      <td>Private</td>\n",
       "      <td>Masters</td>\n",
       "      <td>14</td>\n",
       "      <td>Never-married</td>\n",
       "      <td>Prof-specialty</td>\n",
       "      <td>Not-in-family</td>\n",
       "      <td>White</td>\n",
       "      <td>Female</td>\n",
       "      <td>14084</td>\n",
       "      <td>0</td>\n",
       "      <td>50</td>\n",
       "      <td>United-States</td>\n",
       "      <td>&gt;50K</td>\n",
       "    </tr>\n",
       "    <tr>\n",
       "      <th>9</th>\n",
       "      <td>42</td>\n",
       "      <td>Private</td>\n",
       "      <td>Bachelors</td>\n",
       "      <td>13</td>\n",
       "      <td>Married-civ-spouse</td>\n",
       "      <td>Exec-managerial</td>\n",
       "      <td>Husband</td>\n",
       "      <td>White</td>\n",
       "      <td>Male</td>\n",
       "      <td>5178</td>\n",
       "      <td>0</td>\n",
       "      <td>40</td>\n",
       "      <td>United-States</td>\n",
       "      <td>&gt;50K</td>\n",
       "    </tr>\n",
       "  </tbody>\n",
       "</table>\n",
       "</div>"
      ],
      "text/plain": [
       "   age          workclass   education  education-num          marital-status  \\\n",
       "0   39          State-gov   Bachelors             13           Never-married   \n",
       "1   50   Self-emp-not-inc   Bachelors             13      Married-civ-spouse   \n",
       "2   38            Private     HS-grad              9                Divorced   \n",
       "3   53            Private        11th              7      Married-civ-spouse   \n",
       "4   28            Private   Bachelors             13      Married-civ-spouse   \n",
       "5   37            Private     Masters             14      Married-civ-spouse   \n",
       "6   49            Private         9th              5   Married-spouse-absent   \n",
       "7   52   Self-emp-not-inc     HS-grad              9      Married-civ-spouse   \n",
       "8   31            Private     Masters             14           Never-married   \n",
       "9   42            Private   Bachelors             13      Married-civ-spouse   \n",
       "\n",
       "           occupation    relationship    race      sex  capital-gain  \\\n",
       "0        Adm-clerical   Not-in-family   White     Male          2174   \n",
       "1     Exec-managerial         Husband   White     Male             0   \n",
       "2   Handlers-cleaners   Not-in-family   White     Male             0   \n",
       "3   Handlers-cleaners         Husband   Black     Male             0   \n",
       "4      Prof-specialty            Wife   Black   Female             0   \n",
       "5     Exec-managerial            Wife   White   Female             0   \n",
       "6       Other-service   Not-in-family   Black   Female             0   \n",
       "7     Exec-managerial         Husband   White     Male             0   \n",
       "8      Prof-specialty   Not-in-family   White   Female         14084   \n",
       "9     Exec-managerial         Husband   White     Male          5178   \n",
       "\n",
       "   capital-loss  hours-per-week  native-country   money  \n",
       "0             0              40   United-States   <=50K  \n",
       "1             0              13   United-States   <=50K  \n",
       "2             0              40   United-States   <=50K  \n",
       "3             0              40   United-States   <=50K  \n",
       "4             0              40            Cuba   <=50K  \n",
       "5             0              40   United-States   <=50K  \n",
       "6             0              16         Jamaica   <=50K  \n",
       "7             0              45   United-States    >50K  \n",
       "8             0              50   United-States    >50K  \n",
       "9             0              40   United-States    >50K  "
      ]
     },
     "execution_count": 3,
     "metadata": {},
     "output_type": "execute_result"
    }
   ],
   "source": [
    "df.head(10) #取头10行数据"
   ]
  },
  {
   "cell_type": "code",
   "execution_count": 4,
   "metadata": {},
   "outputs": [
    {
     "data": {
      "text/html": [
       "<div>\n",
       "<style scoped>\n",
       "    .dataframe tbody tr th:only-of-type {\n",
       "        vertical-align: middle;\n",
       "    }\n",
       "\n",
       "    .dataframe tbody tr th {\n",
       "        vertical-align: top;\n",
       "    }\n",
       "\n",
       "    .dataframe thead th {\n",
       "        text-align: right;\n",
       "    }\n",
       "</style>\n",
       "<table border=\"1\" class=\"dataframe\">\n",
       "  <thead>\n",
       "    <tr style=\"text-align: right;\">\n",
       "      <th></th>\n",
       "      <th>age</th>\n",
       "      <th>workclass</th>\n",
       "      <th>education</th>\n",
       "      <th>education-num</th>\n",
       "      <th>marital-status</th>\n",
       "      <th>occupation</th>\n",
       "      <th>relationship</th>\n",
       "      <th>race</th>\n",
       "      <th>sex</th>\n",
       "      <th>capital-gain</th>\n",
       "      <th>capital-loss</th>\n",
       "      <th>hours-per-week</th>\n",
       "      <th>native-country</th>\n",
       "      <th>money</th>\n",
       "    </tr>\n",
       "  </thead>\n",
       "  <tbody>\n",
       "    <tr>\n",
       "      <th>32551</th>\n",
       "      <td>32</td>\n",
       "      <td>Private</td>\n",
       "      <td>10th</td>\n",
       "      <td>6</td>\n",
       "      <td>Married-civ-spouse</td>\n",
       "      <td>Handlers-cleaners</td>\n",
       "      <td>Husband</td>\n",
       "      <td>Amer-Indian-Eskimo</td>\n",
       "      <td>Male</td>\n",
       "      <td>0</td>\n",
       "      <td>0</td>\n",
       "      <td>40</td>\n",
       "      <td>United-States</td>\n",
       "      <td>&lt;=50K</td>\n",
       "    </tr>\n",
       "    <tr>\n",
       "      <th>32552</th>\n",
       "      <td>43</td>\n",
       "      <td>Private</td>\n",
       "      <td>Assoc-voc</td>\n",
       "      <td>11</td>\n",
       "      <td>Married-civ-spouse</td>\n",
       "      <td>Sales</td>\n",
       "      <td>Husband</td>\n",
       "      <td>White</td>\n",
       "      <td>Male</td>\n",
       "      <td>0</td>\n",
       "      <td>0</td>\n",
       "      <td>45</td>\n",
       "      <td>United-States</td>\n",
       "      <td>&lt;=50K</td>\n",
       "    </tr>\n",
       "    <tr>\n",
       "      <th>32553</th>\n",
       "      <td>32</td>\n",
       "      <td>Private</td>\n",
       "      <td>Masters</td>\n",
       "      <td>14</td>\n",
       "      <td>Never-married</td>\n",
       "      <td>Tech-support</td>\n",
       "      <td>Not-in-family</td>\n",
       "      <td>Asian-Pac-Islander</td>\n",
       "      <td>Male</td>\n",
       "      <td>0</td>\n",
       "      <td>0</td>\n",
       "      <td>11</td>\n",
       "      <td>Taiwan</td>\n",
       "      <td>&lt;=50K</td>\n",
       "    </tr>\n",
       "    <tr>\n",
       "      <th>32554</th>\n",
       "      <td>53</td>\n",
       "      <td>Private</td>\n",
       "      <td>Masters</td>\n",
       "      <td>14</td>\n",
       "      <td>Married-civ-spouse</td>\n",
       "      <td>Exec-managerial</td>\n",
       "      <td>Husband</td>\n",
       "      <td>White</td>\n",
       "      <td>Male</td>\n",
       "      <td>0</td>\n",
       "      <td>0</td>\n",
       "      <td>40</td>\n",
       "      <td>United-States</td>\n",
       "      <td>&gt;50K</td>\n",
       "    </tr>\n",
       "    <tr>\n",
       "      <th>32555</th>\n",
       "      <td>22</td>\n",
       "      <td>Private</td>\n",
       "      <td>Some-college</td>\n",
       "      <td>10</td>\n",
       "      <td>Never-married</td>\n",
       "      <td>Protective-serv</td>\n",
       "      <td>Not-in-family</td>\n",
       "      <td>White</td>\n",
       "      <td>Male</td>\n",
       "      <td>0</td>\n",
       "      <td>0</td>\n",
       "      <td>40</td>\n",
       "      <td>United-States</td>\n",
       "      <td>&lt;=50K</td>\n",
       "    </tr>\n",
       "    <tr>\n",
       "      <th>32556</th>\n",
       "      <td>27</td>\n",
       "      <td>Private</td>\n",
       "      <td>Assoc-acdm</td>\n",
       "      <td>12</td>\n",
       "      <td>Married-civ-spouse</td>\n",
       "      <td>Tech-support</td>\n",
       "      <td>Wife</td>\n",
       "      <td>White</td>\n",
       "      <td>Female</td>\n",
       "      <td>0</td>\n",
       "      <td>0</td>\n",
       "      <td>38</td>\n",
       "      <td>United-States</td>\n",
       "      <td>&lt;=50K</td>\n",
       "    </tr>\n",
       "    <tr>\n",
       "      <th>32557</th>\n",
       "      <td>40</td>\n",
       "      <td>Private</td>\n",
       "      <td>HS-grad</td>\n",
       "      <td>9</td>\n",
       "      <td>Married-civ-spouse</td>\n",
       "      <td>Machine-op-inspct</td>\n",
       "      <td>Husband</td>\n",
       "      <td>White</td>\n",
       "      <td>Male</td>\n",
       "      <td>0</td>\n",
       "      <td>0</td>\n",
       "      <td>40</td>\n",
       "      <td>United-States</td>\n",
       "      <td>&gt;50K</td>\n",
       "    </tr>\n",
       "    <tr>\n",
       "      <th>32558</th>\n",
       "      <td>58</td>\n",
       "      <td>Private</td>\n",
       "      <td>HS-grad</td>\n",
       "      <td>9</td>\n",
       "      <td>Widowed</td>\n",
       "      <td>Adm-clerical</td>\n",
       "      <td>Unmarried</td>\n",
       "      <td>White</td>\n",
       "      <td>Female</td>\n",
       "      <td>0</td>\n",
       "      <td>0</td>\n",
       "      <td>40</td>\n",
       "      <td>United-States</td>\n",
       "      <td>&lt;=50K</td>\n",
       "    </tr>\n",
       "    <tr>\n",
       "      <th>32559</th>\n",
       "      <td>22</td>\n",
       "      <td>Private</td>\n",
       "      <td>HS-grad</td>\n",
       "      <td>9</td>\n",
       "      <td>Never-married</td>\n",
       "      <td>Adm-clerical</td>\n",
       "      <td>Own-child</td>\n",
       "      <td>White</td>\n",
       "      <td>Male</td>\n",
       "      <td>0</td>\n",
       "      <td>0</td>\n",
       "      <td>20</td>\n",
       "      <td>United-States</td>\n",
       "      <td>&lt;=50K</td>\n",
       "    </tr>\n",
       "    <tr>\n",
       "      <th>32560</th>\n",
       "      <td>52</td>\n",
       "      <td>Self-emp-inc</td>\n",
       "      <td>HS-grad</td>\n",
       "      <td>9</td>\n",
       "      <td>Married-civ-spouse</td>\n",
       "      <td>Exec-managerial</td>\n",
       "      <td>Wife</td>\n",
       "      <td>White</td>\n",
       "      <td>Female</td>\n",
       "      <td>15024</td>\n",
       "      <td>0</td>\n",
       "      <td>40</td>\n",
       "      <td>United-States</td>\n",
       "      <td>&gt;50K</td>\n",
       "    </tr>\n",
       "  </tbody>\n",
       "</table>\n",
       "</div>"
      ],
      "text/plain": [
       "       age      workclass      education  education-num       marital-status  \\\n",
       "32551   32        Private           10th              6   Married-civ-spouse   \n",
       "32552   43        Private      Assoc-voc             11   Married-civ-spouse   \n",
       "32553   32        Private        Masters             14        Never-married   \n",
       "32554   53        Private        Masters             14   Married-civ-spouse   \n",
       "32555   22        Private   Some-college             10        Never-married   \n",
       "32556   27        Private     Assoc-acdm             12   Married-civ-spouse   \n",
       "32557   40        Private        HS-grad              9   Married-civ-spouse   \n",
       "32558   58        Private        HS-grad              9              Widowed   \n",
       "32559   22        Private        HS-grad              9        Never-married   \n",
       "32560   52   Self-emp-inc        HS-grad              9   Married-civ-spouse   \n",
       "\n",
       "               occupation    relationship                 race      sex  \\\n",
       "32551   Handlers-cleaners         Husband   Amer-Indian-Eskimo     Male   \n",
       "32552               Sales         Husband                White     Male   \n",
       "32553        Tech-support   Not-in-family   Asian-Pac-Islander     Male   \n",
       "32554     Exec-managerial         Husband                White     Male   \n",
       "32555     Protective-serv   Not-in-family                White     Male   \n",
       "32556        Tech-support            Wife                White   Female   \n",
       "32557   Machine-op-inspct         Husband                White     Male   \n",
       "32558        Adm-clerical       Unmarried                White   Female   \n",
       "32559        Adm-clerical       Own-child                White     Male   \n",
       "32560     Exec-managerial            Wife                White   Female   \n",
       "\n",
       "       capital-gain  capital-loss  hours-per-week  native-country   money  \n",
       "32551             0             0              40   United-States   <=50K  \n",
       "32552             0             0              45   United-States   <=50K  \n",
       "32553             0             0              11          Taiwan   <=50K  \n",
       "32554             0             0              40   United-States    >50K  \n",
       "32555             0             0              40   United-States   <=50K  \n",
       "32556             0             0              38   United-States   <=50K  \n",
       "32557             0             0              40   United-States    >50K  \n",
       "32558             0             0              40   United-States   <=50K  \n",
       "32559             0             0              20   United-States   <=50K  \n",
       "32560         15024             0              40   United-States    >50K  "
      ]
     },
     "execution_count": 4,
     "metadata": {},
     "output_type": "execute_result"
    }
   ],
   "source": [
    "df.tail(10) #取末尾10行数据"
   ]
  },
  {
   "cell_type": "code",
   "execution_count": 5,
   "metadata": {},
   "outputs": [
    {
     "data": {
      "text/plain": [
       "False"
      ]
     },
     "execution_count": 5,
     "metadata": {},
     "output_type": "execute_result"
    }
   ],
   "source": [
    "df.isnull().values.any() #检查表中的空值"
   ]
  },
  {
   "cell_type": "markdown",
   "metadata": {},
   "source": [
    "数据处理\n",
    "* 抛开不必要的影响因素\n",
    "* 将字符串类型的数据转换为数字或数组型"
   ]
  },
  {
   "cell_type": "code",
   "execution_count": 6,
   "metadata": {},
   "outputs": [],
   "source": [
    "del df['education']\n",
    "del df['capital-gain']\n",
    "del df['capital-loss']\n",
    "del df['native-country']\n",
    "del df['occupation']"
   ]
  },
  {
   "cell_type": "code",
   "execution_count": 7,
   "metadata": {},
   "outputs": [],
   "source": [
    "sex_map = {' Male' : 1, ' Female' : 0}  \n",
    "#性别相关，1为男性，0为女性\n",
    "df['sex'] = df['sex'].map(sex_map) \n",
    "\n",
    "s = ' White, Asian-Pac-Islander, Amer-Indian-Eskimo, Other, Black'  \n",
    "#表中的人种参照，分别有“白种人、亚洲人种、美洲人种、黑色人种、其他人种”\n",
    "race_map = {' White': 0, ' Asian-Pac-Islander': 1, ' Amer-Indian-Eskimo': 2, ' Other': 3, ' Black': 4}\n",
    "df['race'] = df['race'].map(race_map)\n",
    "\n",
    "money_map = {' <=50K': 0, ' >50K': 1}\n",
    "#根据薪资分类，低收入人群：0，高收入人群：1\n",
    "df['money'] = df['money'].map(money_map)\n",
    "\n",
    "rel_map = {' Wife': 0, ' Own-child': 1, ' Husband': 2, ' Not-in-family': 3, ' Other-relative': 4, ' Unmarried': 5}\n",
    "#家庭结构分析，嫁人为妇为0、已婚已孕为1、成家立业为2、独生为3、有其他亲属为4、未婚为5\n",
    "df['relationship'] = df['relationship'].map(rel_map)\n",
    "\n",
    "mar_map = {' Married-civ-spouse': 0, ' Divorced': 1, ' Never-married': 2, ' Separated': 3, ' Widowed': 4, ' Married-spouse-absent': 5, ' Married-AF-spouse': 6}\n",
    "#婚恋情况分析：已婚为0，、离婚为1、未婚为2、离异为3、丧偶为3、丧偶式婚姻为4，再婚为6\n",
    "df['marital-status'] = df['marital-status'].map(mar_map)\n",
    "\n",
    "work_map = {' Private': 0, ' Self-emp-not-inc': 1, ' Self-emp-inc': 2, ' Federal-gov': 3, ' Local-gov': 4, ' State-gov': 5, ' Without-pay': 6, ' Never-worked': 7, ' ?': 8}\n",
    "#就业状况：个体户为0、无限责任公司为1、有限责任公司为2、联邦政府工作人员为3、地方政府工作人员为4、州政府工作人员为5、失业为6、无工作经验者为7、其他归类为8\n",
    "df['workclass'] = df['workclass'].map(work_map)"
   ]
  },
  {
   "cell_type": "markdown",
   "metadata": {},
   "source": [
    "进行可视化分析：红色的关联度最高，蓝色反之。"
   ]
  },
  {
   "cell_type": "code",
   "execution_count": 8,
   "metadata": {},
   "outputs": [],
   "source": [
    "#可视化图像的预备\n",
    "def plot_corr(df, size=10):\n",
    "\n",
    "    corr = df.corr()    #数据帧相关函数\n",
    "    fig, ax = plt.subplots(figsize=(size, size))\n",
    "    ax.matshow(corr)   #颜色代码矩形的相关值\n",
    "    plt.xticks(range(len(corr.columns)), corr.columns)  # x轴\n",
    "    plt.yticks(range(len(corr.columns)), corr.columns)  # y轴\n"
   ]
  },
  {
   "cell_type": "code",
   "execution_count": 9,
   "metadata": {},
   "outputs": [
    {
     "data": {
      "image/png": "[encoded data removed]",
      "text/plain": [
       "<Figure size 720x720 with 1 Axes>"
      ]
     },
     "metadata": {
      "needs_background": "light"
     },
     "output_type": "display_data"
    }
   ],
   "source": [
    "plot_corr(df)  #根据上一段代码输出可视化的图形"
   ]
  },
  {
   "cell_type": "code",
   "execution_count": 10,
   "metadata": {},
   "outputs": [
    {
     "data": {
      "text/html": [
       "<div>\n",
       "<style scoped>\n",
       "    .dataframe tbody tr th:only-of-type {\n",
       "        vertical-align: middle;\n",
       "    }\n",
       "\n",
       "    .dataframe tbody tr th {\n",
       "        vertical-align: top;\n",
       "    }\n",
       "\n",
       "    .dataframe thead th {\n",
       "        text-align: right;\n",
       "    }\n",
       "</style>\n",
       "<table border=\"1\" class=\"dataframe\">\n",
       "  <thead>\n",
       "    <tr style=\"text-align: right;\">\n",
       "      <th></th>\n",
       "      <th>age</th>\n",
       "      <th>workclass</th>\n",
       "      <th>education-num</th>\n",
       "      <th>marital-status</th>\n",
       "      <th>relationship</th>\n",
       "      <th>race</th>\n",
       "      <th>sex</th>\n",
       "      <th>hours-per-week</th>\n",
       "      <th>money</th>\n",
       "    </tr>\n",
       "  </thead>\n",
       "  <tbody>\n",
       "    <tr>\n",
       "      <th>age</th>\n",
       "      <td>1.000000</td>\n",
       "      <td>0.114059</td>\n",
       "      <td>0.036527</td>\n",
       "      <td>-0.220938</td>\n",
       "      <td>0.128919</td>\n",
       "      <td>-0.029869</td>\n",
       "      <td>0.088832</td>\n",
       "      <td>0.068756</td>\n",
       "      <td>0.234037</td>\n",
       "    </tr>\n",
       "    <tr>\n",
       "      <th>workclass</th>\n",
       "      <td>0.114059</td>\n",
       "      <td>1.000000</td>\n",
       "      <td>0.051581</td>\n",
       "      <td>0.025886</td>\n",
       "      <td>-0.026602</td>\n",
       "      <td>0.037281</td>\n",
       "      <td>-0.053619</td>\n",
       "      <td>-0.112513</td>\n",
       "      <td>-0.004868</td>\n",
       "    </tr>\n",
       "    <tr>\n",
       "      <th>education-num</th>\n",
       "      <td>0.036527</td>\n",
       "      <td>0.051581</td>\n",
       "      <td>1.000000</td>\n",
       "      <td>-0.107648</td>\n",
       "      <td>-0.031898</td>\n",
       "      <td>-0.078799</td>\n",
       "      <td>0.012280</td>\n",
       "      <td>0.148123</td>\n",
       "      <td>0.335154</td>\n",
       "    </tr>\n",
       "    <tr>\n",
       "      <th>marital-status</th>\n",
       "      <td>-0.220938</td>\n",
       "      <td>0.025886</td>\n",
       "      <td>-0.107648</td>\n",
       "      <td>1.000000</td>\n",
       "      <td>0.362819</td>\n",
       "      <td>0.131782</td>\n",
       "      <td>-0.380043</td>\n",
       "      <td>-0.221882</td>\n",
       "      <td>-0.377794</td>\n",
       "    </tr>\n",
       "    <tr>\n",
       "      <th>relationship</th>\n",
       "      <td>0.128919</td>\n",
       "      <td>-0.026602</td>\n",
       "      <td>-0.031898</td>\n",
       "      <td>0.362819</td>\n",
       "      <td>1.000000</td>\n",
       "      <td>0.120530</td>\n",
       "      <td>-0.169737</td>\n",
       "      <td>0.056941</td>\n",
       "      <td>-0.171771</td>\n",
       "    </tr>\n",
       "    <tr>\n",
       "      <th>race</th>\n",
       "      <td>-0.029869</td>\n",
       "      <td>0.037281</td>\n",
       "      <td>-0.078799</td>\n",
       "      <td>0.131782</td>\n",
       "      <td>0.120530</td>\n",
       "      <td>1.000000</td>\n",
       "      <td>-0.117363</td>\n",
       "      <td>-0.054443</td>\n",
       "      <td>-0.096839</td>\n",
       "    </tr>\n",
       "    <tr>\n",
       "      <th>sex</th>\n",
       "      <td>0.088832</td>\n",
       "      <td>-0.053619</td>\n",
       "      <td>0.012280</td>\n",
       "      <td>-0.380043</td>\n",
       "      <td>-0.169737</td>\n",
       "      <td>-0.117363</td>\n",
       "      <td>1.000000</td>\n",
       "      <td>0.229309</td>\n",
       "      <td>0.215980</td>\n",
       "    </tr>\n",
       "    <tr>\n",
       "      <th>hours-per-week</th>\n",
       "      <td>0.068756</td>\n",
       "      <td>-0.112513</td>\n",
       "      <td>0.148123</td>\n",
       "      <td>-0.221882</td>\n",
       "      <td>0.056941</td>\n",
       "      <td>-0.054443</td>\n",
       "      <td>0.229309</td>\n",
       "      <td>1.000000</td>\n",
       "      <td>0.229689</td>\n",
       "    </tr>\n",
       "    <tr>\n",
       "      <th>money</th>\n",
       "      <td>0.234037</td>\n",
       "      <td>-0.004868</td>\n",
       "      <td>0.335154</td>\n",
       "      <td>-0.377794</td>\n",
       "      <td>-0.171771</td>\n",
       "      <td>-0.096839</td>\n",
       "      <td>0.215980</td>\n",
       "      <td>0.229689</td>\n",
       "      <td>1.000000</td>\n",
       "    </tr>\n",
       "  </tbody>\n",
       "</table>\n",
       "</div>"
      ],
      "text/plain": [
       "                     age  workclass  education-num  marital-status  \\\n",
       "age             1.000000   0.114059       0.036527       -0.220938   \n",
       "workclass       0.114059   1.000000       0.051581        0.025886   \n",
       "education-num   0.036527   0.051581       1.000000       -0.107648   \n",
       "marital-status -0.220938   0.025886      -0.107648        1.000000   \n",
       "relationship    0.128919  -0.026602      -0.031898        0.362819   \n",
       "race           -0.029869   0.037281      -0.078799        0.131782   \n",
       "sex             0.088832  -0.053619       0.012280       -0.380043   \n",
       "hours-per-week  0.068756  -0.112513       0.148123       -0.221882   \n",
       "money           0.234037  -0.004868       0.335154       -0.377794   \n",
       "\n",
       "                relationship      race       sex  hours-per-week     money  \n",
       "age                 0.128919 -0.029869  0.088832        0.068756  0.234037  \n",
       "workclass          -0.026602  0.037281 -0.053619       -0.112513 -0.004868  \n",
       "education-num      -0.031898 -0.078799  0.012280        0.148123  0.335154  \n",
       "marital-status      0.362819  0.131782 -0.380043       -0.221882 -0.377794  \n",
       "relationship        1.000000  0.120530 -0.169737        0.056941 -0.171771  \n",
       "race                0.120530  1.000000 -0.117363       -0.054443 -0.096839  \n",
       "sex                -0.169737 -0.117363  1.000000        0.229309  0.215980  \n",
       "hours-per-week      0.056941 -0.054443  0.229309        1.000000  0.229689  \n",
       "money              -0.171771 -0.096839  0.215980        0.229689  1.000000  "
      ]
     },
     "execution_count": 10,
     "metadata": {},
     "output_type": "execute_result"
    }
   ],
   "source": [
    "df.corr() #以图表显示各项数据的相关性，数值越大则关联性越强"
   ]
  },
  {
   "cell_type": "markdown",
   "metadata": {},
   "source": [
    "开始分配训练集以及测试集，并对预测结果的准确性进行分析\n",
    "* 70%做训练集，剩余30%做测试集"
   ]
  },
  {
   "cell_type": "code",
   "execution_count": 11,
   "metadata": {},
   "outputs": [],
   "source": [
    "#特征列命名\n",
    "feature_col_names = ['age', 'workclass', 'education-num', 'marital-status', 'relationship', 'race', 'sex', 'hours-per-week']\n",
    "#特征类命名\n",
    "predicted_class_names = ['money']\n",
    "\n",
    "X = df[feature_col_names].values      #预测特征列\n",
    "y = df[predicted_class_names].values  #预测特征类\n",
    "\n",
    "X_train, X_test, y_train, y_test = train_test_split(X, y, test_size=0.30, random_state=42) "
   ]
  },
  {
   "cell_type": "markdown",
   "metadata": {},
   "source": [
    "* 运用各种方法，对数据进行分析，输出其准确度"
   ]
  },
  {
   "cell_type": "markdown",
   "metadata": {},
   "source": [
    "方法1：高斯朴素贝叶斯"
   ]
  },
  {
   "cell_type": "code",
   "execution_count": 12,
   "metadata": {},
   "outputs": [
    {
     "data": {
      "text/plain": [
       "GaussianNB(priors=None, var_smoothing=1e-09)"
      ]
     },
     "execution_count": 12,
     "metadata": {},
     "output_type": "execute_result"
    }
   ],
   "source": [
    "from sklearn.naive_bayes import GaussianNB\n",
    "\n",
    "nb_model = GaussianNB() #默认priors=None\n",
    "nb_model.fit(X_train, y_train.ravel())"
   ]
  },
  {
   "cell_type": "markdown",
   "metadata": {},
   "source": [
    "对训练集以及测试集拟合度进行检测"
   ]
  },
  {
   "cell_type": "code",
   "execution_count": 13,
   "metadata": {},
   "outputs": [
    {
     "name": "stdout",
     "output_type": "stream",
     "text": [
      "训练集精确度: 0.7585\n",
      "测试集精确度: 0.7639\n"
     ]
    }
   ],
   "source": [
    "from sklearn import metrics #导入数据包\n",
    "\n",
    "nb_predict_train = nb_model.predict(X_train) #训练集\n",
    "nb_predict_test = nb_model.predict(X_test) #测试集\n",
    "\n",
    "# 训练集与测试集精确度输出\n",
    "print(\"训练集精确度: {0:.4f}\".format(metrics.accuracy_score(y_train, nb_predict_train)))\n",
    "print(\"测试集精确度: {0:.4f}\".format(metrics.accuracy_score(y_test, nb_predict_test)))"
   ]
  },
  {
   "cell_type": "markdown",
   "metadata": {},
   "source": [
    "矩阵分析优劣"
   ]
  },
  {
   "cell_type": "code",
   "execution_count": 14,
   "metadata": {},
   "outputs": [
    {
     "name": "stdout",
     "output_type": "stream",
     "text": [
      "混淆矩阵：\n",
      "[[1682  632]\n",
      " [1674 5781]]\n",
      "分类报告：\n",
      "              precision    recall  f1-score   support\n",
      "\n",
      "           1       0.50      0.73      0.59      2314\n",
      "           0       0.90      0.78      0.83      7455\n",
      "\n",
      "    accuracy                           0.76      9769\n",
      "   macro avg       0.70      0.75      0.71      9769\n",
      "weighted avg       0.81      0.76      0.78      9769\n",
      "\n"
     ]
    }
   ],
   "source": [
    "print(\"混淆矩阵：\")\n",
    "# 记标签1为左上的正确值，0为右下的的谬误值\n",
    "print(\"{0}\".format(metrics.confusion_matrix(y_test, nb_predict_test, labels=[1, 0])))\n",
    "\n",
    "print(\"分类报告：\")\n",
    "print(metrics.classification_report(y_test, nb_predict_test, labels=[1,0]))"
   ]
  },
  {
   "cell_type": "markdown",
   "metadata": {},
   "source": [
    "方法2：One-Hot编码"
   ]
  },
  {
   "cell_type": "code",
   "execution_count": 15,
   "metadata": {},
   "outputs": [],
   "source": [
    "from sklearn.preprocessing import StandardScaler\n",
    "scaler = StandardScaler()\n",
    "# 按顺序调用 fit 和 transform (使用方法链接)\n",
    "X_scaled = scaler.fit(X_train).transform(X_train)\n",
    "# 同样的结果，但计算效率更高\n",
    "X_scaled_d = scaler.fit_transform(X_train)"
   ]
  },
  {
   "cell_type": "code",
   "execution_count": 16,
   "metadata": {},
   "outputs": [
    {
     "name": "stdout",
     "output_type": "stream",
     "text": [
      "训练集精确度: 0.8219\n",
      "测试集精确度: 0.8186\n"
     ]
    },
    {
     "name": "stderr",
     "output_type": "stream",
     "text": [
      "G:\\SOFTERWAREINSTALL\\anaconda3\\lib\\site-packages\\sklearn\\linear_model\\_logistic.py:940: ConvergenceWarning: lbfgs failed to converge (status=1):\n",
      "STOP: TOTAL NO. of ITERATIONS REACHED LIMIT.\n",
      "\n",
      "Increase the number of iterations (max_iter) or scale the data as shown in:\n",
      "    https://scikit-learn.org/stable/modules/preprocessing.html\n",
      "Please also refer to the documentation for alternative solver options:\n",
      "    https://scikit-learn.org/stable/modules/linear_model.html#logistic-regression\n",
      "  extra_warning_msg=_LOGISTIC_SOLVER_CONVERGENCE_MSG)\n"
     ]
    }
   ],
   "source": [
    "from sklearn.linear_model import LogisticRegression\n",
    "from sklearn.model_selection import train_test_split\n",
    "\n",
    "X_train, X_test, y_train, y_test = train_test_split(X, y, random_state=0)\n",
    "logreg = LogisticRegression() # 利用LogisticRegression建立线性模型\n",
    "logreg.fit(X_train, y_train.ravel())\n",
    "print(\"训练集精确度: {:.4f}\".format(logreg.score(X_train, y_train)))\n",
    "print(\"测试集精确度: {:.4f}\".format(logreg.score(X_test, y_test)))"
   ]
  },
  {
   "cell_type": "markdown",
   "metadata": {},
   "source": [
    "方法3：随机森林"
   ]
  },
  {
   "cell_type": "code",
   "execution_count": 17,
   "metadata": {},
   "outputs": [
    {
     "data": {
      "text/plain": [
       "RandomForestClassifier(bootstrap=True, ccp_alpha=0.0, class_weight=None,\n",
       "                       criterion='gini', max_depth=None, max_features='auto',\n",
       "                       max_leaf_nodes=None, max_samples=None,\n",
       "                       min_impurity_decrease=0.0, min_impurity_split=None,\n",
       "                       min_samples_leaf=1, min_samples_split=2,\n",
       "                       min_weight_fraction_leaf=0.0, n_estimators=100,\n",
       "                       n_jobs=None, oob_score=False, random_state=42, verbose=0,\n",
       "                       warm_start=False)"
      ]
     },
     "execution_count": 17,
     "metadata": {},
     "output_type": "execute_result"
    }
   ],
   "source": [
    "from sklearn.ensemble import RandomForestClassifier\n",
    "rf_model = RandomForestClassifier(random_state=42)      # Create random forest object\n",
    "rf_model.fit(X_train, y_train.ravel()) "
   ]
  },
  {
   "cell_type": "markdown",
   "metadata": {},
   "source": [
    "训练集与测试集预测"
   ]
  },
  {
   "cell_type": "code",
   "execution_count": 18,
   "metadata": {},
   "outputs": [
    {
     "name": "stdout",
     "output_type": "stream",
     "text": [
      "训练集精确度: 0.9363\n",
      "测试集精确度: 0.8097\n"
     ]
    }
   ],
   "source": [
    "rf_predict_train = rf_model.predict(X_train)  #训练集\n",
    "rf_predict_test = rf_model.predict(X_test)  #测试集\n",
    "\n",
    "# 训练集与测试集的精确度输出\n",
    "print(\"训练集精确度: {0:.4f}\".format(metrics.accuracy_score(y_train, rf_predict_train)))\n",
    "print(\"测试集精确度: {0:.4f}\".format(metrics.accuracy_score(y_test, rf_predict_test)))"
   ]
  },
  {
   "cell_type": "markdown",
   "metadata": {},
   "source": [
    "矩阵输出分析结果"
   ]
  },
  {
   "cell_type": "code",
   "execution_count": 19,
   "metadata": {},
   "outputs": [
    {
     "name": "stdout",
     "output_type": "stream",
     "text": [
      "混淆矩阵：\n",
      "[[1070  912]\n",
      " [ 637 5522]]\n",
      "分类报告：\n",
      "              precision    recall  f1-score   support\n",
      "\n",
      "           1       0.63      0.54      0.58      1982\n",
      "           0       0.86      0.90      0.88      6159\n",
      "\n",
      "    accuracy                           0.81      8141\n",
      "   macro avg       0.74      0.72      0.73      8141\n",
      "weighted avg       0.80      0.81      0.80      8141\n",
      "\n"
     ]
    }
   ],
   "source": [
    "print(\"混淆矩阵：\")\n",
    "print(metrics.confusion_matrix(y_test, rf_predict_test, labels=[1, 0]) )\n",
    "\n",
    "print(\"分类报告：\")\n",
    "print(metrics.classification_report(y_test, rf_predict_test, labels=[1,0]))"
   ]
  },
  {
   "cell_type": "markdown",
   "metadata": {},
   "source": [
    "方法4：linearSVC"
   ]
  },
  {
   "cell_type": "code",
   "execution_count": 20,
   "metadata": {},
   "outputs": [
    {
     "name": "stderr",
     "output_type": "stream",
     "text": [
      "G:\\SOFTERWAREINSTALL\\anaconda3\\lib\\site-packages\\sklearn\\svm\\_base.py:947: ConvergenceWarning: Liblinear failed to converge, increase the number of iterations.\n",
      "  \"the number of iterations.\", ConvergenceWarning)\n"
     ]
    }
   ],
   "source": [
    "from sklearn.linear_model import LinearRegression\n",
    "from sklearn.svm import LinearSVC\n",
    "svc_model = LinearSVC().fit(X_train, y_train.ravel())"
   ]
  },
  {
   "cell_type": "code",
   "execution_count": 21,
   "metadata": {},
   "outputs": [
    {
     "name": "stdout",
     "output_type": "stream",
     "text": [
      "训练集精确度: 0.8170\n",
      "测试集精确度: 0.8143\n"
     ]
    }
   ],
   "source": [
    "svc_predict_train = svc_model.predict(X_train)  #训练集\n",
    "svc_predict_test = svc_model.predict(X_test)  #测试集\n",
    "\n",
    "# 训练集与测试集精确度输出\n",
    "print(\"训练集精确度: {0:.4f}\".format(metrics.accuracy_score(y_train, svc_predict_train)))\n",
    "print(\"测试集精确度: {0:.4f}\".format(metrics.accuracy_score(y_test, svc_predict_test)))"
   ]
  },
  {
   "cell_type": "code",
   "execution_count": 22,
   "metadata": {},
   "outputs": [
    {
     "name": "stdout",
     "output_type": "stream",
     "text": [
      "混淆矩阵：\n",
      "[[ 857 1125]\n",
      " [ 387 5772]]\n",
      "分类报告：\n",
      "              precision    recall  f1-score   support\n",
      "\n",
      "           1       0.69      0.43      0.53      1982\n",
      "           0       0.84      0.94      0.88      6159\n",
      "\n",
      "    accuracy                           0.81      8141\n",
      "   macro avg       0.76      0.68      0.71      8141\n",
      "weighted avg       0.80      0.81      0.80      8141\n",
      "\n"
     ]
    }
   ],
   "source": [
    "print(\"混淆矩阵：\")\n",
    "print(metrics.confusion_matrix(y_test, svc_predict_test, labels=[1, 0]) )\n",
    "\n",
    "print(\"分类报告：\")\n",
    "print(metrics.classification_report(y_test, svc_predict_test, labels=[1,0]))"
   ]
  },
  {
   "cell_type": "markdown",
   "metadata": {},
   "source": [
    "方法5：决策树"
   ]
  },
  {
   "cell_type": "code",
   "execution_count": 23,
   "metadata": {},
   "outputs": [
    {
     "name": "stdout",
     "output_type": "stream",
     "text": [
      "第一次测试训练集精确度: 0.9364\n",
      "第一次测试预测集精确度: 0.7849\n"
     ]
    }
   ],
   "source": [
    "import sys\n",
    "from sklearn.tree import DecisionTreeClassifier\n",
    "\n",
    "tree = DecisionTreeClassifier(random_state=0)\n",
    "tree.fit(X_train, y_train)\n",
    "\n",
    "print(\"第一次测试训练集精确度: {:.4f}\".format(tree.score(X_train, y_train)))\n",
    "print(\"第一次测试预测集精确度: {:.4f}\".format(tree.score(X_test, y_test)))"
   ]
  },
  {
   "cell_type": "markdown",
   "metadata": {},
   "source": [
    "限制树深度"
   ]
  },
  {
   "cell_type": "code",
   "execution_count": 24,
   "metadata": {},
   "outputs": [
    {
     "name": "stdout",
     "output_type": "stream",
     "text": [
      "训练集精确度: 0.8324\n",
      "测试集精确度: 0.8293\n"
     ]
    }
   ],
   "source": [
    "tree = DecisionTreeClassifier(max_depth=6, random_state=0)\n",
    "tree.fit(X_train, y_train)\n",
    "\n",
    "print(\"训练集精确度: {:.4f}\".format(tree.score(X_train, y_train)))\n",
    "print(\"测试集精确度: {:.4f}\".format(tree.score(X_test, y_test)))"
   ]
  },
  {
   "cell_type": "markdown",
   "metadata": {},
   "source": [
    "方法5：带交叉验证的网格搜索"
   ]
  },
  {
   "cell_type": "markdown",
   "metadata": {},
   "source": [
    "带交叉验证的网格搜索会搜索最佳参数，还会利用得到最佳交叉验证性能的参数在 整个训练数据集上自动拟合一个新模型，但缺点是训练所有这些模型所需的时间长"
   ]
  },
  {
   "cell_type": "code",
   "execution_count": 25,
   "metadata": {},
   "outputs": [],
   "source": [
    "import numpy as np\n",
    "from sklearn.svm import SVC\n",
    "from sklearn.model_selection import cross_val_score\n",
    "from sklearn.model_selection import train_test_split\n",
    "\n",
    "X_train, X_test, y_train, y_test = train_test_split(X, y.ravel(), random_state=0)\n",
    "\n",
    "best_score = 0"
   ]
  },
  {
   "cell_type": "code",
   "execution_count": 26,
   "metadata": {},
   "outputs": [
    {
     "name": "stdout",
     "output_type": "stream",
     "text": [
      "最佳验证结果: 0.8231\n",
      "最佳参数:  {'C': 10, 'gamma': 0.01}\n",
      "测试集最佳准确度: 0.8214\n"
     ]
    }
   ],
   "source": [
    "for gamma in [0.001, 0.01, 10]:\n",
    "    for C in [0.001, 0.01, 10]:\n",
    "        #对于每种数据参数组合都训练一个SVC\n",
    "        svm = SVC(gamma=gamma, C=C)\n",
    "        #执行交叉验证\n",
    "        scores = cross_val_score(svm, X_train, y_train, cv=3)\n",
    "        #计算交叉验证的平均精度\n",
    "        score = np.mean(scores)\n",
    "        if score > best_score:\n",
    "            best_score = score\n",
    "            best_parameters = {'C': C, 'gamma': gamma}\n",
    "#重新构建一个模型\n",
    "svm = SVC(**best_parameters)\n",
    "svm.fit(X_train, y_train)\n",
    "test_score = svm.score(X_test, y_test)\n",
    "print(\"最佳验证结果: {:.4f}\".format(best_score))\n",
    "print(\"最佳参数: \", best_parameters)\n",
    "print(\"测试集最佳准确度: {:.4f}\".format(test_score))"
   ]
  },
  {
   "cell_type": "code",
   "execution_count": 27,
   "metadata": {},
   "outputs": [
    {
     "name": "stdout",
     "output_type": "stream",
     "text": [
      "混淆矩阵\n",
      "[[1005  977]\n",
      " [ 477 5682]]\n",
      "分类报告\n",
      "              precision    recall  f1-score   support\n",
      "\n",
      "           1       0.68      0.51      0.58      1982\n",
      "           0       0.85      0.92      0.89      6159\n",
      "\n",
      "    accuracy                           0.82      8141\n",
      "   macro avg       0.77      0.71      0.73      8141\n",
      "weighted avg       0.81      0.82      0.81      8141\n",
      "\n"
     ]
    }
   ],
   "source": [
    "svm_predict_test = svm.predict(X_test)\n",
    "\n",
    "print(\"混淆矩阵\")\n",
    "print(metrics.confusion_matrix(y_test, svm_predict_test, labels=[1, 0]))\n",
    "\n",
    "print(\"分类报告\")\n",
    "print(metrics.classification_report(y_test, svm_predict_test, labels=[1,0]))"
   ]
  },
  {
   "cell_type": "markdown",
   "metadata": {},
   "source": [
    "方法6：神经网络（深度学习）"
   ]
  },
  {
   "cell_type": "markdown",
   "metadata": {},
   "source": [
    "神经网络是用于分类和回归的多层感知器。它的主要优点之一是能够获 取大量数据中包含的信息，并构建无比复杂的模型。"
   ]
  },
  {
   "cell_type": "code",
   "execution_count": 28,
   "metadata": {},
   "outputs": [
    {
     "name": "stdout",
     "output_type": "stream",
     "text": [
      "训练集准确度: 0.8315\n",
      "测试集准确度: 0.8311\n"
     ]
    }
   ],
   "source": [
    "from sklearn.neural_network import MLPClassifier\n",
    "from sklearn.model_selection import train_test_split\n",
    "\n",
    "X_train, X_test, y_train, y_test = train_test_split(X, y.ravel(),stratify=y,random_state=42)\n",
    "\n",
    "mlp = MLPClassifier(random_state=42)\n",
    "mlp.fit(X_train, y_train)\n",
    "\n",
    "print(\"训练集准确度: {:.4f}\".format(mlp.score(X_train, y_train)))\n",
    "print(\"测试集准确度: {:.4f}\".format(mlp.score(X_test, y_test)))"
   ]
  },
  {
   "cell_type": "markdown",
   "metadata": {},
   "source": [
    "神经网络要求所有输入特征的变化范围相似，最理想的情况是均值为0、方差为1。我们必须对数据进行缩放以满足这些要求"
   ]
  },
  {
   "cell_type": "code",
   "execution_count": 29,
   "metadata": {},
   "outputs": [
    {
     "name": "stdout",
     "output_type": "stream",
     "text": [
      "训练集准确度: 0.8348\n",
      "测试集准确度: 0.8321\n"
     ]
    }
   ],
   "source": [
    "# 计算训练集中每个特征的平均值 \n",
    "mean_on_train = X_train.mean(axis=0) \n",
    "# 计算训练集中每个特征的标准差 \n",
    "std_on_train = X_train.std(axis=0) \n",
    " \n",
    "# 减去平均值，然后乘以标准差的倒数  \n",
    "# 如此运算之后，mean=0，std=1 \n",
    "X_train_scaled = (X_train - mean_on_train) / std_on_train \n",
    "# 对测试集做相同的变换（使用训练集的平均值和标准差） \n",
    "X_test_scaled = (X_test - mean_on_train) / std_on_train \n",
    " \n",
    "mlp = MLPClassifier(max_iter=1000, alpha=0.1, random_state=0)\n",
    "mlp.fit(X_train_scaled, y_train)\n",
    "\n",
    "print(\"训练集准确度: {:.4f}\".format( \n",
    "    mlp.score(X_train_scaled, y_train)))  \n",
    "print(\"测试集准确度: {:.4f}\".format(mlp.score(X_test_scaled, y_test)))"
   ]
  },
  {
   "cell_type": "code",
   "execution_count": 30,
   "metadata": {},
   "outputs": [
    {
     "name": "stdout",
     "output_type": "stream",
     "text": [
      "混淆矩阵\n",
      "[[ 126 1834]\n",
      " [1035 5146]]\n",
      "分类报告\n",
      "              precision    recall  f1-score   support\n",
      "\n",
      "           1       0.11      0.06      0.08      1960\n",
      "           0       0.74      0.83      0.78      6181\n",
      "\n",
      "    accuracy                           0.65      8141\n",
      "   macro avg       0.42      0.45      0.43      8141\n",
      "weighted avg       0.59      0.65      0.61      8141\n",
      "\n"
     ]
    }
   ],
   "source": [
    "mlp_predict_test = mlp.predict(X_test)\n",
    "\n",
    "print(\"混淆矩阵\")\n",
    "print(metrics.confusion_matrix(y_test, mlp_predict_test, labels=[1, 0]))\n",
    "\n",
    "print(\"分类报告\")\n",
    "print(metrics.classification_report(y_test, mlp_predict_test, labels=[1,0]))"
   ]
  }
 ],
 "metadata": {
  "kernelspec": {
   "display_name": "Python 3",
   "language": "python",
   "name": "python3"
  },
  "language_info": {
   "codemirror_mode": {
    "name": "ipython",
    "version": 3
   },
   "file_extension": ".py",
   "mimetype": "text/x-python",
   "name": "python",
   "nbconvert_exporter": "python",
   "pygments_lexer": "ipython3",
   "version": "3.7.6"
  }
 },
 "nbformat": 4,
 "nbformat_minor": 4
}
